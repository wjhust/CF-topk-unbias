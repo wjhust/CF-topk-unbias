{
 "cells": [
  {
   "cell_type": "code",
   "execution_count": 117,
   "metadata": {},
   "outputs": [],
   "source": [
    "import pandas as pd\n",
    "import numpy as np"
   ]
  },
  {
   "cell_type": "code",
   "execution_count": 118,
   "metadata": {},
   "outputs": [
    {
     "data": {
      "text/html": [
       "<div>\n",
       "<style scoped>\n",
       "    .dataframe tbody tr th:only-of-type {\n",
       "        vertical-align: middle;\n",
       "    }\n",
       "\n",
       "    .dataframe tbody tr th {\n",
       "        vertical-align: top;\n",
       "    }\n",
       "\n",
       "    .dataframe thead th {\n",
       "        text-align: right;\n",
       "    }\n",
       "</style>\n",
       "<table border=\"1\" class=\"dataframe\">\n",
       "  <thead>\n",
       "    <tr style=\"text-align: right;\">\n",
       "      <th></th>\n",
       "      <th>user_id</th>\n",
       "      <th>item_id</th>\n",
       "      <th>rating</th>\n",
       "      <th>timestamp</th>\n",
       "    </tr>\n",
       "  </thead>\n",
       "  <tbody>\n",
       "    <tr>\n",
       "      <th>0</th>\n",
       "      <td>196</td>\n",
       "      <td>242</td>\n",
       "      <td>3</td>\n",
       "      <td>881250949</td>\n",
       "    </tr>\n",
       "    <tr>\n",
       "      <th>1</th>\n",
       "      <td>186</td>\n",
       "      <td>302</td>\n",
       "      <td>3</td>\n",
       "      <td>891717742</td>\n",
       "    </tr>\n",
       "    <tr>\n",
       "      <th>2</th>\n",
       "      <td>22</td>\n",
       "      <td>377</td>\n",
       "      <td>1</td>\n",
       "      <td>878887116</td>\n",
       "    </tr>\n",
       "    <tr>\n",
       "      <th>3</th>\n",
       "      <td>244</td>\n",
       "      <td>51</td>\n",
       "      <td>2</td>\n",
       "      <td>880606923</td>\n",
       "    </tr>\n",
       "    <tr>\n",
       "      <th>4</th>\n",
       "      <td>166</td>\n",
       "      <td>346</td>\n",
       "      <td>1</td>\n",
       "      <td>886397596</td>\n",
       "    </tr>\n",
       "  </tbody>\n",
       "</table>\n",
       "</div>"
      ],
      "text/plain": [
       "   user_id  item_id  rating  timestamp\n",
       "0      196      242       3  881250949\n",
       "1      186      302       3  891717742\n",
       "2       22      377       1  878887116\n",
       "3      244       51       2  880606923\n",
       "4      166      346       1  886397596"
      ]
     },
     "execution_count": 118,
     "metadata": {},
     "output_type": "execute_result"
    }
   ],
   "source": [
    "names = ['user_id', 'item_id', 'rating', 'timestamp']\n",
    "df = pd.read_table('/Users/wangjian/Desktop/ml-100k/u.data', sep='\\t', names=names)\n",
    "df.head()"
   ]
  },
  {
   "cell_type": "code",
   "execution_count": 119,
   "metadata": {},
   "outputs": [
    {
     "name": "stdout",
     "output_type": "stream",
     "text": [
      "('users:', 943, 'items:', 1682)\n"
     ]
    }
   ],
   "source": [
    "print('users:', df.user_id.nunique(),\n",
    "     'items:', df.item_id.nunique())\n",
    "#查看数据有多少个不同值。"
   ]
  },
  {
   "cell_type": "code",
   "execution_count": 120,
   "metadata": {},
   "outputs": [
    {
     "name": "stdout",
     "output_type": "stream",
     "text": [
      "[[0. 0. 0. ... 0. 0. 0.]\n",
      " [0. 0. 0. ... 0. 0. 0.]\n",
      " [0. 0. 0. ... 0. 0. 0.]\n",
      " ...\n",
      " [0. 0. 0. ... 0. 0. 0.]\n",
      " [0. 0. 0. ... 0. 0. 0.]\n",
      " [0. 0. 0. ... 0. 0. 0.]]\n"
     ]
    },
    {
     "data": {
      "text/plain": [
       "array([[5., 3., 4., ..., 0., 0., 0.],\n",
       "       [4., 0., 0., ..., 0., 0., 0.],\n",
       "       [0., 0., 0., ..., 0., 0., 0.],\n",
       "       ...,\n",
       "       [5., 0., 0., ..., 0., 0., 0.],\n",
       "       [0., 0., 0., ..., 0., 0., 0.],\n",
       "       [0., 5., 0., ..., 0., 0., 0.]])"
      ]
     },
     "execution_count": 120,
     "metadata": {},
     "output_type": "execute_result"
    }
   ],
   "source": [
    "#构建user-by-item矩阵\n",
    "ratings = np.zeros((df.user_id.nunique(), df.item_id.nunique()))\n",
    "print ratings\n",
    "for row in df.itertuples():#遍历df的行\n",
    "    ratings[row[1]-1, row[2]-1] = row[3]\n",
    "ratings"
   ]
  },
  {
   "cell_type": "code",
   "execution_count": 121,
   "metadata": {},
   "outputs": [
    {
     "name": "stdout",
     "output_type": "stream",
     "text": [
      "稀疏度：6.30%\n"
     ]
    }
   ],
   "source": [
    "sparsity = float(len(ratings.nonzero()[0]))\n",
    "sparsity /= (ratings.shape[0] * ratings.shape[1])\n",
    "sparsity *= 100\n",
    "print('稀疏度：{:4.2f}%'.format(sparsity))"
   ]
  },
  {
   "cell_type": "code",
   "execution_count": 122,
   "metadata": {},
   "outputs": [],
   "source": [
    "##拆分数据集\n",
    "np.random.seed(42)\n",
    "def split(matrix):\n",
    "    test=np.zeros(matrix.shape)\n",
    "    train=matrix.copy()\n",
    "    for user in range(matrix.shape[0]):\n",
    "        #从训练集中删除每个用户10个评级并将其放入测试集。\n",
    "        test_ratings=np.random.choice(matrix[user,:].nonzero()[0],size=10,replace=False)\n",
    "        train[user,test_ratings]=0\n",
    "        test[user,test_ratings]=matrix[user,test_ratings]\n",
    "        #test and training are truly disjoint\n",
    "        assert(np.all((train * test) == 0))\n",
    "        return train, test"
   ]
  },
  {
   "cell_type": "code",
   "execution_count": 123,
   "metadata": {},
   "outputs": [],
   "source": [
    "train,test=split(ratings)"
   ]
  },
  {
   "cell_type": "code",
   "execution_count": 300,
   "metadata": {},
   "outputs": [
    {
     "data": {
      "text/plain": [
       "array([[0., 0., 0., ..., 0., 0., 0.],\n",
       "       [0., 0., 0., ..., 0., 0., 0.],\n",
       "       [0., 0., 0., ..., 0., 0., 0.],\n",
       "       ...,\n",
       "       [0., 0., 0., ..., 0., 0., 0.],\n",
       "       [0., 0., 0., ..., 0., 0., 0.],\n",
       "       [0., 0., 0., ..., 0., 0., 0.]])"
      ]
     },
     "execution_count": 300,
     "metadata": {},
     "output_type": "execute_result"
    }
   ],
   "source": []
  },
  {
   "cell_type": "code",
   "execution_count": 124,
   "metadata": {},
   "outputs": [
    {
     "name": "stdout",
     "output_type": "stream",
     "text": [
      "('train:', (943, 1682), 'test:', (943, 1682))\n"
     ]
    }
   ],
   "source": [
    "print('train:', train.shape,\n",
    "     'test:', test.shape)"
   ]
  },
  {
   "cell_type": "code",
   "execution_count": 125,
   "metadata": {},
   "outputs": [],
   "source": [
    "def similarity(matrix,kind='user',epsilon=1e-9):#这里使用余弦相似度\n",
    "    matrix = np.mat(matrix)\n",
    "    #epsilon阻止上下溢出\n",
    "    if kind=='user':\n",
    "        sim=np.dot(matrix,matrix.T)+epsilon#用户之间直接使用相似度\n",
    "    if kind=='item':\n",
    "        sim=np.dot(matrix.T,matrix)+epsilon#物品之间直接使用评分\n",
    "    norms=np.array([np.sqrt(np.diagonal(sim))])#\n",
    "    return sim/norms/norms.T\n",
    "#这里直接使用numpy里边的求内积函数.dot()加快计算，返回ratings的相似度矩阵"
   ]
  },
  {
   "cell_type": "code",
   "execution_count": 126,
   "metadata": {},
   "outputs": [
    {
     "name": "stdout",
     "output_type": "stream",
     "text": [
      "CPU times: user 178 ms, sys: 35.8 ms, total: 214 ms\n",
      "Wall time: 115 ms\n"
     ]
    },
    {
     "data": {
      "text/plain": [
       "matrix([[1.00000000e+00, 4.02382178e-01, 3.30244787e-01, ...,\n",
       "         5.89788339e-12, 4.71830671e-02, 4.71830671e-02],\n",
       "        [4.02382178e-01, 1.00000000e+00, 2.73069175e-01, ...,\n",
       "         1.30498938e-11, 7.82993627e-02, 7.82993627e-02],\n",
       "        [3.30244787e-01, 2.73069175e-01, 1.00000000e+00, ...,\n",
       "         1.61458421e-11, 1.07638947e-11, 9.68750526e-02],\n",
       "        ...,\n",
       "        [5.89788339e-12, 1.30498938e-11, 1.61458421e-11, ...,\n",
       "         1.00000000e+00, 1.66666667e-10, 1.66666667e-10],\n",
       "        [4.71830671e-02, 7.82993627e-02, 1.07638947e-11, ...,\n",
       "         1.66666667e-10, 1.00000000e+00, 1.11111111e-10],\n",
       "        [4.71830671e-02, 7.82993627e-02, 9.68750526e-02, ...,\n",
       "         1.66666667e-10, 1.11111111e-10, 1.00000000e+00]])"
      ]
     },
     "execution_count": 126,
     "metadata": {},
     "output_type": "execute_result"
    }
   ],
   "source": [
    "%%time\n",
    "similarity(train,kind='item')"
   ]
  },
  {
   "cell_type": "code",
   "execution_count": 127,
   "metadata": {},
   "outputs": [
    {
     "data": {
      "text/plain": [
       "matrix([[1.        , 0.40238218, 0.33024479, 0.45493792],\n",
       "        [0.40238218, 1.        , 0.27306918, 0.50257077],\n",
       "        [0.33024479, 0.27306918, 1.        , 0.32486639],\n",
       "        [0.45493792, 0.50257077, 0.32486639, 1.        ]])"
      ]
     },
     "execution_count": 127,
     "metadata": {},
     "output_type": "execute_result"
    }
   ],
   "source": [
    "user_similarity=similarity(train,kind='user')\n",
    "item_similarity=similarity(train,kind='item')\n",
    "item_similarity[:4,:4]\n"
   ]
  },
  {
   "cell_type": "code",
   "execution_count": 149,
   "metadata": {},
   "outputs": [],
   "source": [
    "def predict(matrix,similarity,kind='user'):\n",
    "    matrix=np.mat(matrix)#要初始化\n",
    "    similarity=np.mat(similarity)\n",
    "    if kind == 'user':\n",
    "        #similarity*ratings/\n",
    "        return np.dot(similarity,matrix)/ np.abs(similarity).sum(axis=1)\n",
    "    if kind == 'item':\n",
    "        return np.dot(matrix,similarity) / np.abs(similarity).sum(axis=0)\n",
    "    "
   ]
  },
  {
   "cell_type": "code",
   "execution_count": 150,
   "metadata": {},
   "outputs": [],
   "source": [
    "def mse(pre,actual):\n",
    "    #折叠成一维的数组\n",
    "    pre=pre[actual.nonzero()].flatten()\n",
    "    actual=actual[actual.nonzero()].flatten()\n",
    "    return np.sum((pre - actual) * (pre- actual).T) / pre.size\n",
    "    "
   ]
  },
  {
   "cell_type": "code",
   "execution_count": 151,
   "metadata": {
    "scrolled": true
   },
   "outputs": [
    {
     "name": "stdout",
     "output_type": "stream",
     "text": [
      "MSE_user: 7.886362842306729\n",
      "MSE_item 6.95375528081747\n"
     ]
    }
   ],
   "source": [
    "item_prediction=predict(train,item_similarity,kind='item')\n",
    "user_prediction=predict(train,user_similarity,kind='user')\n",
    "print 'MSE_user:',mse(user_prediction,test)\n",
    "print 'MSE_item',mse(item_prediction,test)"
   ]
  },
  {
   "cell_type": "code",
   "execution_count": 15,
   "metadata": {},
   "outputs": [],
   "source": [
    "#---------------------Top-k Recomendation-------------------------------------"
   ]
  },
  {
   "cell_type": "code",
   "execution_count": 259,
   "metadata": {},
   "outputs": [
    {
     "ename": "KeyboardInterrupt",
     "evalue": "",
     "output_type": "error",
     "traceback": [
      "\u001b[0;31m---------------------------------------------------------------------------\u001b[0m",
      "\u001b[0;31mKeyboardInterrupt\u001b[0m                         Traceback (most recent call last)",
      "\u001b[0;32m<ipython-input-259-f9d2f96a5943>\u001b[0m in \u001b[0;36m<module>\u001b[0;34m()\u001b[0m\n\u001b[1;32m     19\u001b[0m     \u001b[0;32mreturn\u001b[0m \u001b[0mpred\u001b[0m\u001b[0;34m\u001b[0m\u001b[0m\n\u001b[1;32m     20\u001b[0m \u001b[0;34m\u001b[0m\u001b[0m\n\u001b[0;32m---> 21\u001b[0;31m \u001b[0mpred\u001b[0m \u001b[0;34m=\u001b[0m \u001b[0mtopk\u001b[0m\u001b[0;34m(\u001b[0m\u001b[0mtrain\u001b[0m\u001b[0;34m,\u001b[0m \u001b[0mitem_similarity\u001b[0m\u001b[0;34m,\u001b[0m \u001b[0mkind\u001b[0m\u001b[0;34m=\u001b[0m\u001b[0;34m'item'\u001b[0m\u001b[0;34m,\u001b[0m \u001b[0mk\u001b[0m\u001b[0;34m=\u001b[0m\u001b[0;36m40\u001b[0m\u001b[0;34m)\u001b[0m\u001b[0;34m\u001b[0m\u001b[0m\n\u001b[0m\u001b[1;32m     22\u001b[0m \u001b[0;32mprint\u001b[0m \u001b[0;34m'Top-k Item-based CF MSE: '\u001b[0m\u001b[0;34m,\u001b[0m \u001b[0mmse\u001b[0m\u001b[0;34m(\u001b[0m\u001b[0mpred\u001b[0m\u001b[0;34m,\u001b[0m \u001b[0mtest\u001b[0m\u001b[0;34m)\u001b[0m\u001b[0;34m\u001b[0m\u001b[0m\n\u001b[1;32m     23\u001b[0m \u001b[0;34m\u001b[0m\u001b[0m\n",
      "\u001b[0;32m<ipython-input-259-f9d2f96a5943>\u001b[0m in \u001b[0;36mtopk\u001b[0;34m(matrix, similarity, kind, k)\u001b[0m\n\u001b[1;32m     15\u001b[0m             \u001b[0;32mfor\u001b[0m \u001b[0mi\u001b[0m \u001b[0;32min\u001b[0m \u001b[0mrange\u001b[0m\u001b[0;34m(\u001b[0m\u001b[0mmatrix\u001b[0m\u001b[0;34m.\u001b[0m\u001b[0mshape\u001b[0m\u001b[0;34m[\u001b[0m\u001b[0;36m0\u001b[0m\u001b[0;34m]\u001b[0m\u001b[0;34m)\u001b[0m\u001b[0;34m:\u001b[0m\u001b[0;34m\u001b[0m\u001b[0m\n\u001b[1;32m     16\u001b[0m                 \u001b[0mpred\u001b[0m\u001b[0;34m[\u001b[0m\u001b[0mi\u001b[0m\u001b[0;34m,\u001b[0m \u001b[0mj\u001b[0m\u001b[0;34m]\u001b[0m \u001b[0;34m=\u001b[0m \u001b[0msimilarity\u001b[0m\u001b[0;34m[\u001b[0m\u001b[0mj\u001b[0m\u001b[0;34m,\u001b[0m \u001b[0mtop_k_items\u001b[0m\u001b[0;34m]\u001b[0m\u001b[0;34m.\u001b[0m\u001b[0mT\u001b[0m \u001b[0;34m*\u001b[0m \u001b[0mmatrix\u001b[0m\u001b[0;34m[\u001b[0m\u001b[0mi\u001b[0m\u001b[0;34m,\u001b[0m \u001b[0mtop_k_items\u001b[0m\u001b[0;34m]\u001b[0m\u001b[0;34m\u001b[0m\u001b[0m\n\u001b[0;32m---> 17\u001b[0;31m                 \u001b[0mpred\u001b[0m\u001b[0;34m[\u001b[0m\u001b[0mi\u001b[0m\u001b[0;34m,\u001b[0m \u001b[0mj\u001b[0m\u001b[0;34m]\u001b[0m \u001b[0;34m/=\u001b[0m \u001b[0mnp\u001b[0m\u001b[0;34m.\u001b[0m\u001b[0msum\u001b[0m\u001b[0;34m(\u001b[0m\u001b[0mnp\u001b[0m\u001b[0;34m.\u001b[0m\u001b[0mabs\u001b[0m\u001b[0;34m(\u001b[0m\u001b[0msimilarity\u001b[0m\u001b[0;34m[\u001b[0m\u001b[0mj\u001b[0m\u001b[0;34m,\u001b[0m \u001b[0mtop_k_items\u001b[0m\u001b[0;34m]\u001b[0m\u001b[0;34m)\u001b[0m\u001b[0;34m)\u001b[0m\u001b[0;34m\u001b[0m\u001b[0m\n\u001b[0m\u001b[1;32m     18\u001b[0m \u001b[0;34m\u001b[0m\u001b[0m\n\u001b[1;32m     19\u001b[0m     \u001b[0;32mreturn\u001b[0m \u001b[0mpred\u001b[0m\u001b[0;34m\u001b[0m\u001b[0m\n",
      "\u001b[0;32m/anaconda2/lib/python2.7/site-packages/numpy/matrixlib/defmatrix.pyc\u001b[0m in \u001b[0;36m__getitem__\u001b[0;34m(self, index)\u001b[0m\n\u001b[1;32m    291\u001b[0m         \u001b[0;32mif\u001b[0m \u001b[0mout\u001b[0m\u001b[0;34m.\u001b[0m\u001b[0mndim\u001b[0m \u001b[0;34m==\u001b[0m \u001b[0;36m0\u001b[0m\u001b[0;34m:\u001b[0m\u001b[0;34m\u001b[0m\u001b[0m\n\u001b[1;32m    292\u001b[0m             \u001b[0;32mreturn\u001b[0m \u001b[0mout\u001b[0m\u001b[0;34m[\u001b[0m\u001b[0;34m(\u001b[0m\u001b[0;34m)\u001b[0m\u001b[0;34m]\u001b[0m\u001b[0;34m\u001b[0m\u001b[0m\n\u001b[0;32m--> 293\u001b[0;31m         \u001b[0;32mif\u001b[0m \u001b[0mout\u001b[0m\u001b[0;34m.\u001b[0m\u001b[0mndim\u001b[0m \u001b[0;34m==\u001b[0m \u001b[0;36m1\u001b[0m\u001b[0;34m:\u001b[0m\u001b[0;34m\u001b[0m\u001b[0m\n\u001b[0m\u001b[1;32m    294\u001b[0m             \u001b[0msh\u001b[0m \u001b[0;34m=\u001b[0m \u001b[0mout\u001b[0m\u001b[0;34m.\u001b[0m\u001b[0mshape\u001b[0m\u001b[0;34m[\u001b[0m\u001b[0;36m0\u001b[0m\u001b[0;34m]\u001b[0m\u001b[0;34m\u001b[0m\u001b[0m\n\u001b[1;32m    295\u001b[0m             \u001b[0;31m# Determine when we should have a column array\u001b[0m\u001b[0;34m\u001b[0m\u001b[0;34m\u001b[0m\u001b[0m\n",
      "\u001b[0;31mKeyboardInterrupt\u001b[0m: "
     ]
    }
   ],
   "source": [
    "def topk(matrix, similarity, kind='user', k=40):\n",
    "    pred = np.zeros(matrix.shape)\n",
    "    if kind == 'user':\n",
    "        for i in range(matrix.shape[0]):\n",
    "            top_k_users = np.argsort(similarity[:,i])[:-k-1:-1]\n",
    "            #print(top_k_users)\n",
    "            for j in range(matrix.shape[1]):\n",
    "                #print(type(similarity[i, top_k_users]))\n",
    "                #print(matrix[top_k_users, j])\n",
    "                pred[i, j] = similarity[i, top_k_users].T * matrix[top_k_users, j]\n",
    "                pred[i, j] /= np.sum(np.abs(similarity[i, top_k_users]))\n",
    "    if kind == 'item':\n",
    "        for j in range(matrix.shape[1]):\n",
    "            top_k_items = np.argsort(similarity[:,j])[:-k-1:-1]\n",
    "            for i in range(matrix.shape[0]):\n",
    "                pred[i, j] = similarity[j, top_k_items].T * matrix[i, top_k_items]\n",
    "                pred[i, j] /= np.sum(np.abs(similarity[j, top_k_items]))        \n",
    "    \n",
    "    return pred\n",
    "\n",
    "pred = topk(train, item_similarity, kind='item', k=40)\n",
    "print 'Top-k Item-based CF MSE: ', mse(pred, test)\n",
    "\n",
    "pred = topk(train, user_similarity, kind='user', k=40)\n",
    "print 'Top-k User-based CF MSE: ' , mse(pred, test)\n",
    "\n"
   ]
  },
  {
   "cell_type": "code",
   "execution_count": 89,
   "metadata": {},
   "outputs": [],
   "source": [
    "#------------------------选k,画图----------------------------------------"
   ]
  },
  {
   "cell_type": "code",
   "execution_count": 290,
   "metadata": {},
   "outputs": [],
   "source": [
    "user_train_mse = []\n",
    "user_test_mse = []\n",
    "item_test_mse = []\n",
    "item_train_mse = []\n",
    "for i in range(5,100,10):\n",
    "    user_pred=topk(train,user_similarity,kind='user',k=i)\n",
    "    item_pred=topk(train,item_similarity,kind='item',k=i)\n",
    "    \n",
    "    user_train_mse.append(mse(user_pred,train))\n",
    "    user_test_mse.append(mse(user_pred,test))\n",
    "    \n",
    "    item_test_mse.append(mse(item_pred,test))\n",
    "    item_train_mse.append(mse(item_pred,train))\n",
    "\n",
    "\n",
    "    \n",
    "\n"
   ]
  },
  {
   "cell_type": "code",
   "execution_count": 294,
   "metadata": {},
   "outputs": [],
   "source": [
    "user_pred=topk(train,user_similarity,kind='user',k=5)"
   ]
  },
  {
   "cell_type": "code",
   "execution_count": 297,
   "metadata": {},
   "outputs": [
    {
     "data": {
      "text/plain": [
       "[21.332047449521017,\n",
       " 21.332047449521017,\n",
       " 21.332047449521017,\n",
       " 21.332047449521017,\n",
       " 21.332047449521017,\n",
       " 21.332047449521017,\n",
       " 21.332047449521017,\n",
       " 21.33204744952102,\n",
       " 21.33204744952102,\n",
       " 21.332047449521017]"
      ]
     },
     "execution_count": 297,
     "metadata": {},
     "output_type": "execute_result"
    }
   ],
   "source": [
    "user_test_mse"
   ]
  },
  {
   "cell_type": "code",
   "execution_count": 295,
   "metadata": {},
   "outputs": [
    {
     "data": {
      "image/png": "[encoded data removed]",
      "text/plain": [
       "<matplotlib.figure.Figure at 0x112884850>"
      ]
     },
     "metadata": {},
     "output_type": "display_data"
    }
   ],
   "source": [
    "pal = sns.color_palette(\"Set2\", 2)\n",
    "s=[i for i in range(5,100,10)]\n",
    "plt.figure(figsize=(8, 8))\n",
    "plt.plot(s, user_train_mse, c=pal[0], label='User-based train', alpha=0.5, linewidth=5)\n",
    "plt.plot(s, user_test_mse, c=pal[0], label='User-based test', linewidth=5)\n",
    "plt.plot(s, item_train_mse, c=pal[1], label='Item-based train', alpha=0.5, linewidth=5)\n",
    "plt.plot(s, item_test_mse, c=pal[1], label='Item-based test', linewidth=5)\n",
    "plt.legend(loc='best', fontsize=20)\n",
    "plt.xticks(fontsize=16);\n",
    "plt.yticks(fontsize=16);\n",
    "plt.xlabel('k', fontsize=30);\n",
    "plt.ylabel('MSE', fontsize=30);"
   ]
  },
  {
   "cell_type": "code",
   "execution_count": null,
   "metadata": {},
   "outputs": [],
   "source": [
    "#--------------------画图----------------------------------------"
   ]
  },
  {
   "cell_type": "code",
   "execution_count": null,
   "metadata": {},
   "outputs": [],
   "source": []
  },
  {
   "cell_type": "code",
   "execution_count": 226,
   "metadata": {},
   "outputs": [],
   "source": [
    "#-------------------predict_nobias预测模块-------------------------------------"
   ]
  },
  {
   "cell_type": "code",
   "execution_count": 232,
   "metadata": {},
   "outputs": [],
   "source": [
    "matrix=train#(943,1682)\n",
    "similarity=user_similarity#(943,943)\n",
    "user_bias=matrix.mean(axis=1)\n",
    "        #axis=0 对每一列求平均\n",
    "        #axis=1 对每一行求平均\n",
    "matrix=matrix-user_bias[:,np.newaxis].copy()\n",
    "pred=np.dot(similarity,matrix)/np.abs(similarity).sum(axis=1)\n",
    "pred+=user_bias[:,np.newaxis]"
   ]
  },
  {
   "cell_type": "code",
   "execution_count": 234,
   "metadata": {},
   "outputs": [
    {
     "name": "stdout",
     "output_type": "stream",
     "text": [
      "('Bias-subtracted User-based CF MSE: ', 13.3)\n"
     ]
    }
   ],
   "source": [
    "print('Bias-subtracted User-based CF MSE: ',mse(user_pred, test))"
   ]
  },
  {
   "cell_type": "code",
   "execution_count": 227,
   "metadata": {},
   "outputs": [],
   "source": [
    "matrix=train#(943,1682)\n",
    "similarity=item_similarity#(1682,1682)\n",
    "item_bias=matrix.mean(axis=0)#(1682,)\n",
    "matrix=matrix-item_bias[np.newaxis,:].copy() #copy(1,1682),m(943,1682)\n",
    "pred=np.dot(matrix,similarity)/np.abs(similarity).sum(axis=0)#(943,1682)\n",
    "pred+=item_bias[np.newaxis,:]#(943,1682)"
   ]
  },
  {
   "cell_type": "code",
   "execution_count": 231,
   "metadata": {},
   "outputs": [
    {
     "name": "stdout",
     "output_type": "stream",
     "text": [
      "('Bias-subtracted Item-based CF MSE: ', 3.3)\n"
     ]
    }
   ],
   "source": [
    "print('Bias-subtracted Item-based CF MSE: ',mse(item_pred, test))"
   ]
  },
  {
   "cell_type": "code",
   "execution_count": 236,
   "metadata": {},
   "outputs": [],
   "source": [
    "#------------------------------------predict_nobias预测模块-----------------------------------"
   ]
  },
  {
   "cell_type": "code",
   "execution_count": null,
   "metadata": {},
   "outputs": [],
   "source": []
  },
  {
   "cell_type": "code",
   "execution_count": 237,
   "metadata": {},
   "outputs": [],
   "source": [
    "#---------------------------topk,predict_nobia合并模块---------------------------------"
   ]
  },
  {
   "cell_type": "code",
   "execution_count": 244,
   "metadata": {},
   "outputs": [],
   "source": [
    "k=40\n",
    "matrix=train\n",
    "similarity=user_similarity\n",
    "pred = np.zeros(matrix.shape)\n",
    "user_bias=matrix.mean(axis=1)\n",
    "matrxi=matrix-user_bias[:,np.newaxis].copy()\n",
    "for i in range(matrix.shape[0]):\n",
    "    top_k_users = np.argsort(similarity[:,i])[:-k-1:-1]\n",
    "            #print(top_k_users)\n",
    "    for j in range(matrix.shape[1]):\n",
    "                #print(type(similarity[i, top_k_users]))\n",
    "                #print(matrix[top_k_users, j])\n",
    "        pred[i, j] = similarity[i, top_k_users].T * matrix[top_k_users, j]\n",
    "        pred[i, j] /= np.sum(np.abs(similarity[i, top_k_users]))\n",
    "pred+=user_bias[:, np.newaxis]\n",
    "user_pred=pred\n",
    "        \n",
    "        \n",
    "\n"
   ]
  },
  {
   "cell_type": "code",
   "execution_count": 245,
   "metadata": {},
   "outputs": [
    {
     "name": "stdout",
     "output_type": "stream",
     "text": [
      "('Bias-subtracted&topk User-based CF MSE: ', 21.332047449521017)\n"
     ]
    }
   ],
   "source": [
    "print('Bias-subtracted&topk User-based CF MSE: ',mse(user_pred, test))"
   ]
  },
  {
   "cell_type": "code",
   "execution_count": 248,
   "metadata": {},
   "outputs": [],
   "source": [
    "matrix=train #(943,1682)\n",
    "similarity=item_similarity#(1682,1682)\n",
    "pred = np.zeros(matrix.shape)#(943,1682)\n",
    "item_bias=matrix.mean(axis=0)#(1682,)\n",
    "matrxi=matrix-item_bias[np.newaxis,:].copy()#copy(1,1682),m(943,1682)\n",
    "for j in range(matrix.shape[1]):\n",
    "    top_k_items = np.argsort(similarity[:,j])[:-k-1:-1]\n",
    "    for i in range(matrix.shape[0]):\n",
    "        pred[i, j] = similarity[j, top_k_items].T * matrix[i, top_k_items]\n",
    "        pred[i, j] /= np.sum(np.abs(similarity[j, top_k_items]))   \n",
    "pred+=item_bias[np.newaxis,:]\n",
    "item_pred=pred\n",
    "\n",
    "\n"
   ]
  },
  {
   "cell_type": "code",
   "execution_count": 249,
   "metadata": {},
   "outputs": [
    {
     "name": "stdout",
     "output_type": "stream",
     "text": [
      "('Bias-subtracted&topk Item-based CF MSE: ', 1.5392401534276194)\n"
     ]
    }
   ],
   "source": [
    "print('Bias-subtracted&topk Item-based CF MSE: ',mse(item_pred, test))"
   ]
  },
  {
   "cell_type": "code",
   "execution_count": null,
   "metadata": {},
   "outputs": [],
   "source": []
  }
 ],
 "metadata": {
  "kernelspec": {
   "display_name": "Python 2",
   "language": "python",
   "name": "python2"
  },
  "language_info": {
   "codemirror_mode": {
    "name": "ipython",
    "version": 2
   },
   "file_extension": ".py",
   "mimetype": "text/x-python",
   "name": "python",
   "nbconvert_exporter": "python",
   "pygments_lexer": "ipython2",
   "version": "2.7.14"
  }
 },
 "nbformat": 4,
 "nbformat_minor": 2
}
